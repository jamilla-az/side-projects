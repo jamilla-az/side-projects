{
 "cells": [
  {
   "cell_type": "markdown",
   "metadata": {},
   "source": [
    "# Predicting Taxi Trip Durations using KNN and Linear Regression\n",
    "\n",
    "This notebook was inspired by the [Kaggle competition](https://kaggle.com/c/nyc-taxi-trip-duration). I accessed the March 2018 Yellow Cab trip data from the [New York Taxi and Limousine Corporation Trip Record Data](https://www1.nyc.gov/site/tlc/about/tlc-trip-record-data.page) site for my analysis. \n",
    "\n",
    "The goal of this notebook is to explore concepts in KNN and linear regression using this dataset and assess the power of these models on predicting trip duration from location, time, and other variables. The motivation to do this is to apply theoretical concepts from data science to a real-world example in order to better understand these core concepts. "
   ]
  },
  {
   "cell_type": "markdown",
   "metadata": {},
   "source": [
    "## EDA and Data Cleaning\n",
    "\n",
    "The first step is to examine the data (exploratory data analysis) and clean up our records to make sure all values make sense. Let's examine the data set:"
   ]
  },
  {
   "cell_type": "code",
   "execution_count": 1,
   "metadata": {},
   "outputs": [],
   "source": [
    "# load in libraries for EDA, feature engineering\n",
    "\n",
    "import numpy as np\n",
    "import pandas as pd\n",
    "import matplotlib\n",
    "import matplotlib.pyplot as plt\n",
    "import seaborn as sns"
   ]
  },
  {
   "cell_type": "code",
   "execution_count": 2,
   "metadata": {},
   "outputs": [
    {
     "data": {
      "text/html": [
       "<div>\n",
       "<style scoped>\n",
       "    .dataframe tbody tr th:only-of-type {\n",
       "        vertical-align: middle;\n",
       "    }\n",
       "\n",
       "    .dataframe tbody tr th {\n",
       "        vertical-align: top;\n",
       "    }\n",
       "\n",
       "    .dataframe thead th {\n",
       "        text-align: right;\n",
       "    }\n",
       "</style>\n",
       "<table border=\"1\" class=\"dataframe\">\n",
       "  <thead>\n",
       "    <tr style=\"text-align: right;\">\n",
       "      <th></th>\n",
       "      <th>VendorID</th>\n",
       "      <th>tpep_pickup_datetime</th>\n",
       "      <th>tpep_dropoff_datetime</th>\n",
       "      <th>passenger_count</th>\n",
       "      <th>trip_distance</th>\n",
       "      <th>RatecodeID</th>\n",
       "      <th>store_and_fwd_flag</th>\n",
       "      <th>PULocationID</th>\n",
       "      <th>DOLocationID</th>\n",
       "      <th>payment_type</th>\n",
       "      <th>fare_amount</th>\n",
       "      <th>extra</th>\n",
       "      <th>mta_tax</th>\n",
       "      <th>tip_amount</th>\n",
       "      <th>tolls_amount</th>\n",
       "      <th>improvement_surcharge</th>\n",
       "      <th>total_amount</th>\n",
       "    </tr>\n",
       "  </thead>\n",
       "  <tbody>\n",
       "    <tr>\n",
       "      <th>0</th>\n",
       "      <td>1</td>\n",
       "      <td>2018-03-01 00:01:34</td>\n",
       "      <td>2018-03-01 00:01:43</td>\n",
       "      <td>1</td>\n",
       "      <td>0.0</td>\n",
       "      <td>1</td>\n",
       "      <td>N</td>\n",
       "      <td>145</td>\n",
       "      <td>145</td>\n",
       "      <td>2</td>\n",
       "      <td>2.5</td>\n",
       "      <td>0.5</td>\n",
       "      <td>0.5</td>\n",
       "      <td>0.00</td>\n",
       "      <td>0.0</td>\n",
       "      <td>0.3</td>\n",
       "      <td>3.80</td>\n",
       "    </tr>\n",
       "    <tr>\n",
       "      <th>1</th>\n",
       "      <td>1</td>\n",
       "      <td>2018-03-01 00:14:34</td>\n",
       "      <td>2018-03-01 00:28:13</td>\n",
       "      <td>1</td>\n",
       "      <td>3.3</td>\n",
       "      <td>1</td>\n",
       "      <td>N</td>\n",
       "      <td>151</td>\n",
       "      <td>244</td>\n",
       "      <td>1</td>\n",
       "      <td>13.0</td>\n",
       "      <td>0.5</td>\n",
       "      <td>0.5</td>\n",
       "      <td>2.85</td>\n",
       "      <td>0.0</td>\n",
       "      <td>0.3</td>\n",
       "      <td>17.15</td>\n",
       "    </tr>\n",
       "    <tr>\n",
       "      <th>2</th>\n",
       "      <td>1</td>\n",
       "      <td>2018-03-01 00:51:25</td>\n",
       "      <td>2018-03-01 00:59:54</td>\n",
       "      <td>1</td>\n",
       "      <td>2.7</td>\n",
       "      <td>1</td>\n",
       "      <td>N</td>\n",
       "      <td>238</td>\n",
       "      <td>152</td>\n",
       "      <td>2</td>\n",
       "      <td>10.0</td>\n",
       "      <td>0.5</td>\n",
       "      <td>0.5</td>\n",
       "      <td>0.00</td>\n",
       "      <td>0.0</td>\n",
       "      <td>0.3</td>\n",
       "      <td>11.30</td>\n",
       "    </tr>\n",
       "    <tr>\n",
       "      <th>3</th>\n",
       "      <td>1</td>\n",
       "      <td>2018-03-01 00:00:01</td>\n",
       "      <td>2018-03-01 00:00:17</td>\n",
       "      <td>1</td>\n",
       "      <td>0.0</td>\n",
       "      <td>1</td>\n",
       "      <td>N</td>\n",
       "      <td>145</td>\n",
       "      <td>145</td>\n",
       "      <td>2</td>\n",
       "      <td>2.5</td>\n",
       "      <td>0.5</td>\n",
       "      <td>0.5</td>\n",
       "      <td>0.00</td>\n",
       "      <td>0.0</td>\n",
       "      <td>0.3</td>\n",
       "      <td>3.80</td>\n",
       "    </tr>\n",
       "    <tr>\n",
       "      <th>4</th>\n",
       "      <td>1</td>\n",
       "      <td>2018-03-01 00:55:10</td>\n",
       "      <td>2018-03-01 00:56:36</td>\n",
       "      <td>1</td>\n",
       "      <td>3.7</td>\n",
       "      <td>1</td>\n",
       "      <td>N</td>\n",
       "      <td>145</td>\n",
       "      <td>145</td>\n",
       "      <td>2</td>\n",
       "      <td>3.0</td>\n",
       "      <td>0.5</td>\n",
       "      <td>0.5</td>\n",
       "      <td>0.00</td>\n",
       "      <td>0.0</td>\n",
       "      <td>0.3</td>\n",
       "      <td>4.30</td>\n",
       "    </tr>\n",
       "  </tbody>\n",
       "</table>\n",
       "</div>"
      ],
      "text/plain": [
       "   VendorID tpep_pickup_datetime tpep_dropoff_datetime  passenger_count  \\\n",
       "0         1  2018-03-01 00:01:34   2018-03-01 00:01:43                1   \n",
       "1         1  2018-03-01 00:14:34   2018-03-01 00:28:13                1   \n",
       "2         1  2018-03-01 00:51:25   2018-03-01 00:59:54                1   \n",
       "3         1  2018-03-01 00:00:01   2018-03-01 00:00:17                1   \n",
       "4         1  2018-03-01 00:55:10   2018-03-01 00:56:36                1   \n",
       "\n",
       "   trip_distance  RatecodeID store_and_fwd_flag  PULocationID  DOLocationID  \\\n",
       "0            0.0           1                  N           145           145   \n",
       "1            3.3           1                  N           151           244   \n",
       "2            2.7           1                  N           238           152   \n",
       "3            0.0           1                  N           145           145   \n",
       "4            3.7           1                  N           145           145   \n",
       "\n",
       "   payment_type  fare_amount  extra  mta_tax  tip_amount  tolls_amount  \\\n",
       "0             2          2.5    0.5      0.5        0.00           0.0   \n",
       "1             1         13.0    0.5      0.5        2.85           0.0   \n",
       "2             2         10.0    0.5      0.5        0.00           0.0   \n",
       "3             2          2.5    0.5      0.5        0.00           0.0   \n",
       "4             2          3.0    0.5      0.5        0.00           0.0   \n",
       "\n",
       "   improvement_surcharge  total_amount  \n",
       "0                    0.3          3.80  \n",
       "1                    0.3         17.15  \n",
       "2                    0.3         11.30  \n",
       "3                    0.3          3.80  \n",
       "4                    0.3          4.30  "
      ]
     },
     "execution_count": 2,
     "metadata": {},
     "output_type": "execute_result"
    }
   ],
   "source": [
    "#load dataset into pandas dataframe\n",
    "taxi_trips = pd.read_csv('yellow_tripdata_2018-03.csv')\n",
    "taxi_trips.head()"
   ]
  },
  {
   "cell_type": "code",
   "execution_count": 3,
   "metadata": {},
   "outputs": [
    {
     "data": {
      "text/plain": [
       "(9430376, 17)"
      ]
     },
     "execution_count": 3,
     "metadata": {},
     "output_type": "execute_result"
    }
   ],
   "source": [
    "#how many records/features do we have?\n",
    "taxi_trips.shape"
   ]
  },
  {
   "cell_type": "markdown",
   "metadata": {},
   "source": [
    "We have more than 9 million trips in March alone! We also have 17 feature columns (predictors). We can get information on what each of these features represents from the [TLC Data Dictionary](https://www1.nyc.gov/assets/tlc/downloads/pdf/data_dictionary_trip_records_yellow.pdf). Some of the fields are:\n",
    "\n",
    "* **VendorID** - what provider gave the record\n",
    "* **Pickup/Dropoff datetime** - time of pickup and dropoff\n",
    "* **Passenger count** - driver reported number of passengers\n",
    "* **Trip distance** - elapsed trip distance (miles) as reported by taximeter\n",
    "* **PU/DO LocationID** - taxi location zone of pickup (PU) and dropoff (DO)\n",
    "* **RatecodeID** - the type of rate used\n",
    "\n",
    "We should check our records for missingness and inconsistent values so that we can clean our dataset. We may also consider randomly dropping a fraction of the observations, since in this toy example, we may not want to mess around with all 9+ million records (for efficiency and speed of modeling). "
   ]
  },
  {
   "cell_type": "code",
   "execution_count": 4,
   "metadata": {},
   "outputs": [
    {
     "data": {
      "text/plain": [
       "VendorID                 0\n",
       "tpep_pickup_datetime     0\n",
       "tpep_dropoff_datetime    0\n",
       "passenger_count          0\n",
       "trip_distance            0\n",
       "RatecodeID               0\n",
       "store_and_fwd_flag       0\n",
       "PULocationID             0\n",
       "DOLocationID             0\n",
       "payment_type             0\n",
       "fare_amount              0\n",
       "extra                    0\n",
       "mta_tax                  0\n",
       "tip_amount               0\n",
       "tolls_amount             0\n",
       "improvement_surcharge    0\n",
       "total_amount             0\n",
       "dtype: int64"
      ]
     },
     "execution_count": 4,
     "metadata": {},
     "output_type": "execute_result"
    }
   ],
   "source": [
    "#check for missingness\n",
    "taxi_trips.isnull().sum() #isnull generates a boolean and sum sums up the number of \"True\" instances"
   ]
  },
  {
   "cell_type": "code",
   "execution_count": 5,
   "metadata": {},
   "outputs": [
    {
     "data": {
      "text/plain": [
       "VendorID                   int64\n",
       "tpep_pickup_datetime      object\n",
       "tpep_dropoff_datetime     object\n",
       "passenger_count            int64\n",
       "trip_distance            float64\n",
       "RatecodeID                 int64\n",
       "store_and_fwd_flag        object\n",
       "PULocationID               int64\n",
       "DOLocationID               int64\n",
       "payment_type               int64\n",
       "fare_amount              float64\n",
       "extra                    float64\n",
       "mta_tax                  float64\n",
       "tip_amount               float64\n",
       "tolls_amount             float64\n",
       "improvement_surcharge    float64\n",
       "total_amount             float64\n",
       "dtype: object"
      ]
     },
     "execution_count": 5,
     "metadata": {},
     "output_type": "execute_result"
    }
   ],
   "source": [
    "#look at data types\n",
    "taxi_trips.dtypes"
   ]
  },
  {
   "cell_type": "markdown",
   "metadata": {},
   "source": [
    "We don't have any NaNs in our dataset which is nice. An examination of the data types shows that everything seems to be above board - fares are floats, IDs are ints, flags are text objects. The only issue is our datetime columns are objects (Pandas strings) and not actual datetime objects. We can correct that by switching the column type. "
   ]
  },
  {
   "cell_type": "code",
   "execution_count": 6,
   "metadata": {},
   "outputs": [
    {
     "data": {
      "text/plain": [
       "0   2018-03-01 00:01:34\n",
       "1   2018-03-01 00:14:34\n",
       "2   2018-03-01 00:51:25\n",
       "3   2018-03-01 00:00:01\n",
       "4   2018-03-01 00:55:10\n",
       "Name: tpep_pickup_datetime, dtype: datetime64[ns]"
      ]
     },
     "execution_count": 6,
     "metadata": {},
     "output_type": "execute_result"
    }
   ],
   "source": [
    "#cast datetime columns into datetime format\n",
    "#try to infer format of strings to speed up process\n",
    "taxi_trips['tpep_pickup_datetime'] = pd.to_datetime(taxi_trips['tpep_pickup_datetime'], infer_datetime_format=True)\n",
    "taxi_trips['tpep_dropoff_datetime'] = pd.to_datetime(taxi_trips['tpep_dropoff_datetime'], infer_datetime_format=True)\n",
    "taxi_trips['tpep_pickup_datetime'].head()"
   ]
  },
  {
   "cell_type": "markdown",
   "metadata": {},
   "source": [
    "Now might a time to try some feature engineering - we don't actually have a column for trip duration (what we want to predict), but now that we have two columns with datetime format, we can easily make a new column with that data from them. "
   ]
  },
  {
   "cell_type": "code",
   "execution_count": 7,
   "metadata": {},
   "outputs": [
    {
     "data": {
      "text/plain": [
       "Timedelta('0 days 00:13:29')"
      ]
     },
     "execution_count": 7,
     "metadata": {},
     "output_type": "execute_result"
    }
   ],
   "source": [
    "taxi_trips['tpep_dropoff_datetime'][101] - taxi_trips['tpep_pickup_datetime'][101]\n",
    "#taking the difference between two datetimes produces a timedelta (absolute difference in time)\n",
    "#in this case 13 minutes and 29 seconds"
   ]
  },
  {
   "cell_type": "code",
   "execution_count": 8,
   "metadata": {},
   "outputs": [
    {
     "data": {
      "text/plain": [
       "0   00:00:09\n",
       "1   00:13:39\n",
       "2   00:08:29\n",
       "3   00:00:16\n",
       "4   00:01:26\n",
       "Name: trip_duration, dtype: timedelta64[ns]"
      ]
     },
     "execution_count": 8,
     "metadata": {},
     "output_type": "execute_result"
    }
   ],
   "source": [
    "#create new timedelta column trip_duration\n",
    "\n",
    "taxi_trips['trip_duration'] = taxi_trips['tpep_dropoff_datetime'] - taxi_trips['tpep_pickup_datetime']\n",
    "taxi_trips['trip_duration'].head()"
   ]
  },
  {
   "cell_type": "markdown",
   "metadata": {},
   "source": [
    "We should look at some summary statistics of our dataset to make sure that all of the values for the numeric columns make sense"
   ]
  },
  {
   "cell_type": "code",
   "execution_count": 9,
   "metadata": {},
   "outputs": [
    {
     "data": {
      "text/html": [
       "<div>\n",
       "<style scoped>\n",
       "    .dataframe tbody tr th:only-of-type {\n",
       "        vertical-align: middle;\n",
       "    }\n",
       "\n",
       "    .dataframe tbody tr th {\n",
       "        vertical-align: top;\n",
       "    }\n",
       "\n",
       "    .dataframe thead th {\n",
       "        text-align: right;\n",
       "    }\n",
       "</style>\n",
       "<table border=\"1\" class=\"dataframe\">\n",
       "  <thead>\n",
       "    <tr style=\"text-align: right;\">\n",
       "      <th></th>\n",
       "      <th>VendorID</th>\n",
       "      <th>passenger_count</th>\n",
       "      <th>trip_distance</th>\n",
       "      <th>RatecodeID</th>\n",
       "      <th>PULocationID</th>\n",
       "      <th>DOLocationID</th>\n",
       "      <th>payment_type</th>\n",
       "      <th>fare_amount</th>\n",
       "      <th>extra</th>\n",
       "      <th>mta_tax</th>\n",
       "      <th>tip_amount</th>\n",
       "      <th>tolls_amount</th>\n",
       "      <th>improvement_surcharge</th>\n",
       "      <th>total_amount</th>\n",
       "      <th>trip_duration</th>\n",
       "    </tr>\n",
       "  </thead>\n",
       "  <tbody>\n",
       "    <tr>\n",
       "      <th>count</th>\n",
       "      <td>9.430376e+06</td>\n",
       "      <td>9.430376e+06</td>\n",
       "      <td>9.430376e+06</td>\n",
       "      <td>9.430376e+06</td>\n",
       "      <td>9.430376e+06</td>\n",
       "      <td>9.430376e+06</td>\n",
       "      <td>9.430376e+06</td>\n",
       "      <td>9.430376e+06</td>\n",
       "      <td>9.430376e+06</td>\n",
       "      <td>9.430376e+06</td>\n",
       "      <td>9.430376e+06</td>\n",
       "      <td>9.430376e+06</td>\n",
       "      <td>9.430376e+06</td>\n",
       "      <td>9.430376e+06</td>\n",
       "      <td>9430376</td>\n",
       "    </tr>\n",
       "    <tr>\n",
       "      <th>mean</th>\n",
       "      <td>1.567604e+00</td>\n",
       "      <td>1.601390e+00</td>\n",
       "      <td>2.864808e+00</td>\n",
       "      <td>1.042197e+00</td>\n",
       "      <td>1.629755e+02</td>\n",
       "      <td>1.611061e+02</td>\n",
       "      <td>1.312569e+00</td>\n",
       "      <td>1.265681e+01</td>\n",
       "      <td>3.343034e-01</td>\n",
       "      <td>4.973344e-01</td>\n",
       "      <td>1.847916e+00</td>\n",
       "      <td>3.253465e-01</td>\n",
       "      <td>3.000036e-01</td>\n",
       "      <td>1.596526e+01</td>\n",
       "      <td>0 days 00:16:34.163174</td>\n",
       "    </tr>\n",
       "    <tr>\n",
       "      <th>std</th>\n",
       "      <td>4.954086e-01</td>\n",
       "      <td>1.247606e+00</td>\n",
       "      <td>3.722331e+00</td>\n",
       "      <td>4.704546e-01</td>\n",
       "      <td>6.664959e+01</td>\n",
       "      <td>7.051072e+01</td>\n",
       "      <td>4.840774e-01</td>\n",
       "      <td>9.631818e+01</td>\n",
       "      <td>4.645647e-01</td>\n",
       "      <td>7.003697e-02</td>\n",
       "      <td>2.565877e+00</td>\n",
       "      <td>1.663388e+00</td>\n",
       "      <td>1.302640e+00</td>\n",
       "      <td>9.668569e+01</td>\n",
       "      <td>0 days 01:03:20.213158</td>\n",
       "    </tr>\n",
       "    <tr>\n",
       "      <th>min</th>\n",
       "      <td>1.000000e+00</td>\n",
       "      <td>0.000000e+00</td>\n",
       "      <td>0.000000e+00</td>\n",
       "      <td>1.000000e+00</td>\n",
       "      <td>1.000000e+00</td>\n",
       "      <td>1.000000e+00</td>\n",
       "      <td>1.000000e+00</td>\n",
       "      <td>-3.740000e+02</td>\n",
       "      <td>-6.000000e+01</td>\n",
       "      <td>-5.000000e-01</td>\n",
       "      <td>-8.000000e+01</td>\n",
       "      <td>-3.800000e+01</td>\n",
       "      <td>-3.000000e-01</td>\n",
       "      <td>-3.748000e+02</td>\n",
       "      <td>-5 days +22:48:32</td>\n",
       "    </tr>\n",
       "    <tr>\n",
       "      <th>25%</th>\n",
       "      <td>1.000000e+00</td>\n",
       "      <td>1.000000e+00</td>\n",
       "      <td>9.400000e-01</td>\n",
       "      <td>1.000000e+00</td>\n",
       "      <td>1.140000e+02</td>\n",
       "      <td>1.070000e+02</td>\n",
       "      <td>1.000000e+00</td>\n",
       "      <td>6.500000e+00</td>\n",
       "      <td>0.000000e+00</td>\n",
       "      <td>5.000000e-01</td>\n",
       "      <td>0.000000e+00</td>\n",
       "      <td>0.000000e+00</td>\n",
       "      <td>3.000000e-01</td>\n",
       "      <td>8.300000e+00</td>\n",
       "      <td>0 days 00:06:19</td>\n",
       "    </tr>\n",
       "    <tr>\n",
       "      <th>50%</th>\n",
       "      <td>2.000000e+00</td>\n",
       "      <td>1.000000e+00</td>\n",
       "      <td>1.600000e+00</td>\n",
       "      <td>1.000000e+00</td>\n",
       "      <td>1.620000e+02</td>\n",
       "      <td>1.620000e+02</td>\n",
       "      <td>1.000000e+00</td>\n",
       "      <td>9.000000e+00</td>\n",
       "      <td>0.000000e+00</td>\n",
       "      <td>5.000000e-01</td>\n",
       "      <td>1.360000e+00</td>\n",
       "      <td>0.000000e+00</td>\n",
       "      <td>3.000000e-01</td>\n",
       "      <td>1.162000e+01</td>\n",
       "      <td>0 days 00:10:37</td>\n",
       "    </tr>\n",
       "    <tr>\n",
       "      <th>75%</th>\n",
       "      <td>2.000000e+00</td>\n",
       "      <td>2.000000e+00</td>\n",
       "      <td>2.940000e+00</td>\n",
       "      <td>1.000000e+00</td>\n",
       "      <td>2.330000e+02</td>\n",
       "      <td>2.330000e+02</td>\n",
       "      <td>2.000000e+00</td>\n",
       "      <td>1.400000e+01</td>\n",
       "      <td>5.000000e-01</td>\n",
       "      <td>5.000000e-01</td>\n",
       "      <td>2.360000e+00</td>\n",
       "      <td>0.000000e+00</td>\n",
       "      <td>3.000000e-01</td>\n",
       "      <td>1.716000e+01</td>\n",
       "      <td>0 days 00:17:30</td>\n",
       "    </tr>\n",
       "    <tr>\n",
       "      <th>max</th>\n",
       "      <td>2.000000e+00</td>\n",
       "      <td>9.000000e+00</td>\n",
       "      <td>3.028000e+02</td>\n",
       "      <td>9.900000e+01</td>\n",
       "      <td>2.650000e+02</td>\n",
       "      <td>2.650000e+02</td>\n",
       "      <td>4.000000e+00</td>\n",
       "      <td>2.147484e+05</td>\n",
       "      <td>6.666000e+01</td>\n",
       "      <td>1.500000e+02</td>\n",
       "      <td>4.960000e+02</td>\n",
       "      <td>9.116100e+02</td>\n",
       "      <td>4.000300e+03</td>\n",
       "      <td>2.147502e+05</td>\n",
       "      <td>4 days 21:21:34</td>\n",
       "    </tr>\n",
       "  </tbody>\n",
       "</table>\n",
       "</div>"
      ],
      "text/plain": [
       "           VendorID  passenger_count  trip_distance    RatecodeID  \\\n",
       "count  9.430376e+06     9.430376e+06   9.430376e+06  9.430376e+06   \n",
       "mean   1.567604e+00     1.601390e+00   2.864808e+00  1.042197e+00   \n",
       "std    4.954086e-01     1.247606e+00   3.722331e+00  4.704546e-01   \n",
       "min    1.000000e+00     0.000000e+00   0.000000e+00  1.000000e+00   \n",
       "25%    1.000000e+00     1.000000e+00   9.400000e-01  1.000000e+00   \n",
       "50%    2.000000e+00     1.000000e+00   1.600000e+00  1.000000e+00   \n",
       "75%    2.000000e+00     2.000000e+00   2.940000e+00  1.000000e+00   \n",
       "max    2.000000e+00     9.000000e+00   3.028000e+02  9.900000e+01   \n",
       "\n",
       "       PULocationID  DOLocationID  payment_type   fare_amount         extra  \\\n",
       "count  9.430376e+06  9.430376e+06  9.430376e+06  9.430376e+06  9.430376e+06   \n",
       "mean   1.629755e+02  1.611061e+02  1.312569e+00  1.265681e+01  3.343034e-01   \n",
       "std    6.664959e+01  7.051072e+01  4.840774e-01  9.631818e+01  4.645647e-01   \n",
       "min    1.000000e+00  1.000000e+00  1.000000e+00 -3.740000e+02 -6.000000e+01   \n",
       "25%    1.140000e+02  1.070000e+02  1.000000e+00  6.500000e+00  0.000000e+00   \n",
       "50%    1.620000e+02  1.620000e+02  1.000000e+00  9.000000e+00  0.000000e+00   \n",
       "75%    2.330000e+02  2.330000e+02  2.000000e+00  1.400000e+01  5.000000e-01   \n",
       "max    2.650000e+02  2.650000e+02  4.000000e+00  2.147484e+05  6.666000e+01   \n",
       "\n",
       "            mta_tax    tip_amount  tolls_amount  improvement_surcharge  \\\n",
       "count  9.430376e+06  9.430376e+06  9.430376e+06           9.430376e+06   \n",
       "mean   4.973344e-01  1.847916e+00  3.253465e-01           3.000036e-01   \n",
       "std    7.003697e-02  2.565877e+00  1.663388e+00           1.302640e+00   \n",
       "min   -5.000000e-01 -8.000000e+01 -3.800000e+01          -3.000000e-01   \n",
       "25%    5.000000e-01  0.000000e+00  0.000000e+00           3.000000e-01   \n",
       "50%    5.000000e-01  1.360000e+00  0.000000e+00           3.000000e-01   \n",
       "75%    5.000000e-01  2.360000e+00  0.000000e+00           3.000000e-01   \n",
       "max    1.500000e+02  4.960000e+02  9.116100e+02           4.000300e+03   \n",
       "\n",
       "       total_amount           trip_duration  \n",
       "count  9.430376e+06                 9430376  \n",
       "mean   1.596526e+01  0 days 00:16:34.163174  \n",
       "std    9.668569e+01  0 days 01:03:20.213158  \n",
       "min   -3.748000e+02       -5 days +22:48:32  \n",
       "25%    8.300000e+00         0 days 00:06:19  \n",
       "50%    1.162000e+01         0 days 00:10:37  \n",
       "75%    1.716000e+01         0 days 00:17:30  \n",
       "max    2.147502e+05         4 days 21:21:34  "
      ]
     },
     "execution_count": 9,
     "metadata": {},
     "output_type": "execute_result"
    }
   ],
   "source": [
    "taxi_trips.describe()"
   ]
  },
  {
   "cell_type": "markdown",
   "metadata": {},
   "source": [
    "We definitely have some weird values here! A trip duration of -5 days or 4 days? Trip distances of 300 miles or 0 miles? We will need to clean up our data. We should examine those records and drop them if need be. "
   ]
  },
  {
   "cell_type": "code",
   "execution_count": 10,
   "metadata": {},
   "outputs": [
    {
     "data": {
      "text/html": [
       "<div>\n",
       "<style scoped>\n",
       "    .dataframe tbody tr th:only-of-type {\n",
       "        vertical-align: middle;\n",
       "    }\n",
       "\n",
       "    .dataframe tbody tr th {\n",
       "        vertical-align: top;\n",
       "    }\n",
       "\n",
       "    .dataframe thead th {\n",
       "        text-align: right;\n",
       "    }\n",
       "</style>\n",
       "<table border=\"1\" class=\"dataframe\">\n",
       "  <thead>\n",
       "    <tr style=\"text-align: right;\">\n",
       "      <th></th>\n",
       "      <th>VendorID</th>\n",
       "      <th>tpep_pickup_datetime</th>\n",
       "      <th>tpep_dropoff_datetime</th>\n",
       "      <th>passenger_count</th>\n",
       "      <th>trip_distance</th>\n",
       "      <th>RatecodeID</th>\n",
       "      <th>store_and_fwd_flag</th>\n",
       "      <th>PULocationID</th>\n",
       "      <th>DOLocationID</th>\n",
       "      <th>payment_type</th>\n",
       "      <th>fare_amount</th>\n",
       "      <th>extra</th>\n",
       "      <th>mta_tax</th>\n",
       "      <th>tip_amount</th>\n",
       "      <th>tolls_amount</th>\n",
       "      <th>improvement_surcharge</th>\n",
       "      <th>total_amount</th>\n",
       "      <th>trip_duration</th>\n",
       "    </tr>\n",
       "  </thead>\n",
       "  <tbody>\n",
       "    <tr>\n",
       "      <th>1720422</th>\n",
       "      <td>1</td>\n",
       "      <td>2018-03-06 15:15:05</td>\n",
       "      <td>2018-03-05 16:05:01</td>\n",
       "      <td>2</td>\n",
       "      <td>9.9</td>\n",
       "      <td>1</td>\n",
       "      <td>N</td>\n",
       "      <td>70</td>\n",
       "      <td>48</td>\n",
       "      <td>1</td>\n",
       "      <td>40.5</td>\n",
       "      <td>0.0</td>\n",
       "      <td>0.5</td>\n",
       "      <td>9.4</td>\n",
       "      <td>5.76</td>\n",
       "      <td>0.3</td>\n",
       "      <td>56.46</td>\n",
       "      <td>-1 days +00:49:56</td>\n",
       "    </tr>\n",
       "    <tr>\n",
       "      <th>6264272</th>\n",
       "      <td>1</td>\n",
       "      <td>2018-03-21 08:20:35</td>\n",
       "      <td>2018-03-21 07:40:23</td>\n",
       "      <td>1</td>\n",
       "      <td>1.5</td>\n",
       "      <td>1</td>\n",
       "      <td>N</td>\n",
       "      <td>239</td>\n",
       "      <td>230</td>\n",
       "      <td>1</td>\n",
       "      <td>8.0</td>\n",
       "      <td>0.0</td>\n",
       "      <td>0.5</td>\n",
       "      <td>1.2</td>\n",
       "      <td>0.00</td>\n",
       "      <td>0.3</td>\n",
       "      <td>10.00</td>\n",
       "      <td>-1 days +23:19:48</td>\n",
       "    </tr>\n",
       "    <tr>\n",
       "      <th>7201330</th>\n",
       "      <td>1</td>\n",
       "      <td>2018-03-24 15:15:17</td>\n",
       "      <td>2018-03-20 14:03:49</td>\n",
       "      <td>1</td>\n",
       "      <td>1.2</td>\n",
       "      <td>1</td>\n",
       "      <td>N</td>\n",
       "      <td>74</td>\n",
       "      <td>75</td>\n",
       "      <td>2</td>\n",
       "      <td>8.0</td>\n",
       "      <td>1.0</td>\n",
       "      <td>0.5</td>\n",
       "      <td>0.0</td>\n",
       "      <td>0.00</td>\n",
       "      <td>0.3</td>\n",
       "      <td>9.80</td>\n",
       "      <td>-5 days +22:48:32</td>\n",
       "    </tr>\n",
       "  </tbody>\n",
       "</table>\n",
       "</div>"
      ],
      "text/plain": [
       "         VendorID tpep_pickup_datetime tpep_dropoff_datetime  passenger_count  \\\n",
       "1720422         1  2018-03-06 15:15:05   2018-03-05 16:05:01                2   \n",
       "6264272         1  2018-03-21 08:20:35   2018-03-21 07:40:23                1   \n",
       "7201330         1  2018-03-24 15:15:17   2018-03-20 14:03:49                1   \n",
       "\n",
       "         trip_distance  RatecodeID store_and_fwd_flag  PULocationID  \\\n",
       "1720422            9.9           1                  N            70   \n",
       "6264272            1.5           1                  N           239   \n",
       "7201330            1.2           1                  N            74   \n",
       "\n",
       "         DOLocationID  payment_type  fare_amount  extra  mta_tax  tip_amount  \\\n",
       "1720422            48             1         40.5    0.0      0.5         9.4   \n",
       "6264272           230             1          8.0    0.0      0.5         1.2   \n",
       "7201330            75             2          8.0    1.0      0.5         0.0   \n",
       "\n",
       "         tolls_amount  improvement_surcharge  total_amount     trip_duration  \n",
       "1720422          5.76                    0.3         56.46 -1 days +00:49:56  \n",
       "6264272          0.00                    0.3         10.00 -1 days +23:19:48  \n",
       "7201330          0.00                    0.3          9.80 -5 days +22:48:32  "
      ]
     },
     "execution_count": 10,
     "metadata": {},
     "output_type": "execute_result"
    }
   ],
   "source": [
    "#when is pickup time after dropoff time?\n",
    "taxi_trips.loc[taxi_trips['trip_duration'] < pd.to_timedelta(0)]"
   ]
  },
  {
   "cell_type": "code",
   "execution_count": 11,
   "metadata": {},
   "outputs": [],
   "source": [
    "#these are likely errors in data recording (only 3 instances) - we can just drop them from our dataset\n",
    "neg_dur_idx = taxi_trips.loc[taxi_trips['trip_duration'] < pd.to_timedelta(0)].index\n",
    "taxi_trips.drop(neg_dur_idx, inplace=True) #dropping in place to avoid making copies of the v. large dataset"
   ]
  },
  {
   "cell_type": "code",
   "execution_count": 12,
   "metadata": {},
   "outputs": [
    {
     "data": {
      "text/html": [
       "<div>\n",
       "<style scoped>\n",
       "    .dataframe tbody tr th:only-of-type {\n",
       "        vertical-align: middle;\n",
       "    }\n",
       "\n",
       "    .dataframe tbody tr th {\n",
       "        vertical-align: top;\n",
       "    }\n",
       "\n",
       "    .dataframe thead th {\n",
       "        text-align: right;\n",
       "    }\n",
       "</style>\n",
       "<table border=\"1\" class=\"dataframe\">\n",
       "  <thead>\n",
       "    <tr style=\"text-align: right;\">\n",
       "      <th></th>\n",
       "      <th>VendorID</th>\n",
       "      <th>tpep_pickup_datetime</th>\n",
       "      <th>tpep_dropoff_datetime</th>\n",
       "      <th>passenger_count</th>\n",
       "      <th>trip_distance</th>\n",
       "      <th>RatecodeID</th>\n",
       "      <th>store_and_fwd_flag</th>\n",
       "      <th>PULocationID</th>\n",
       "      <th>DOLocationID</th>\n",
       "      <th>payment_type</th>\n",
       "      <th>fare_amount</th>\n",
       "      <th>extra</th>\n",
       "      <th>mta_tax</th>\n",
       "      <th>tip_amount</th>\n",
       "      <th>tolls_amount</th>\n",
       "      <th>improvement_surcharge</th>\n",
       "      <th>total_amount</th>\n",
       "      <th>trip_duration</th>\n",
       "    </tr>\n",
       "  </thead>\n",
       "  <tbody>\n",
       "  </tbody>\n",
       "</table>\n",
       "</div>"
      ],
      "text/plain": [
       "Empty DataFrame\n",
       "Columns: [VendorID, tpep_pickup_datetime, tpep_dropoff_datetime, passenger_count, trip_distance, RatecodeID, store_and_fwd_flag, PULocationID, DOLocationID, payment_type, fare_amount, extra, mta_tax, tip_amount, tolls_amount, improvement_surcharge, total_amount, trip_duration]\n",
       "Index: []"
      ]
     },
     "execution_count": 12,
     "metadata": {},
     "output_type": "execute_result"
    }
   ],
   "source": [
    "#can check if these rows are gone\n",
    "taxi_trips.loc[taxi_trips['trip_duration'] < pd.to_timedelta(0)]"
   ]
  },
  {
   "cell_type": "code",
   "execution_count": 13,
   "metadata": {},
   "outputs": [
    {
     "data": {
      "text/html": [
       "<div>\n",
       "<style scoped>\n",
       "    .dataframe tbody tr th:only-of-type {\n",
       "        vertical-align: middle;\n",
       "    }\n",
       "\n",
       "    .dataframe tbody tr th {\n",
       "        vertical-align: top;\n",
       "    }\n",
       "\n",
       "    .dataframe thead th {\n",
       "        text-align: right;\n",
       "    }\n",
       "</style>\n",
       "<table border=\"1\" class=\"dataframe\">\n",
       "  <thead>\n",
       "    <tr style=\"text-align: right;\">\n",
       "      <th></th>\n",
       "      <th>VendorID</th>\n",
       "      <th>passenger_count</th>\n",
       "      <th>trip_distance</th>\n",
       "      <th>RatecodeID</th>\n",
       "      <th>PULocationID</th>\n",
       "      <th>DOLocationID</th>\n",
       "      <th>payment_type</th>\n",
       "      <th>fare_amount</th>\n",
       "      <th>extra</th>\n",
       "      <th>mta_tax</th>\n",
       "      <th>tip_amount</th>\n",
       "      <th>tolls_amount</th>\n",
       "      <th>improvement_surcharge</th>\n",
       "      <th>total_amount</th>\n",
       "      <th>trip_duration</th>\n",
       "    </tr>\n",
       "  </thead>\n",
       "  <tbody>\n",
       "    <tr>\n",
       "      <th>count</th>\n",
       "      <td>5276.0</td>\n",
       "      <td>5276.000000</td>\n",
       "      <td>5276.000000</td>\n",
       "      <td>5276.000000</td>\n",
       "      <td>5276.000000</td>\n",
       "      <td>5276.000000</td>\n",
       "      <td>5276.000000</td>\n",
       "      <td>5276.000000</td>\n",
       "      <td>5276.000000</td>\n",
       "      <td>5276.000000</td>\n",
       "      <td>5276.000000</td>\n",
       "      <td>5276.000000</td>\n",
       "      <td>5276.000000</td>\n",
       "      <td>5276.000000</td>\n",
       "      <td>5276</td>\n",
       "    </tr>\n",
       "    <tr>\n",
       "      <th>mean</th>\n",
       "      <td>2.0</td>\n",
       "      <td>1.937832</td>\n",
       "      <td>0.292798</td>\n",
       "      <td>1.223844</td>\n",
       "      <td>163.998484</td>\n",
       "      <td>157.799280</td>\n",
       "      <td>3.282221</td>\n",
       "      <td>-8.702699</td>\n",
       "      <td>-0.360785</td>\n",
       "      <td>-0.487111</td>\n",
       "      <td>-0.061054</td>\n",
       "      <td>-0.039932</td>\n",
       "      <td>-0.299943</td>\n",
       "      <td>-9.955220</td>\n",
       "      <td>0 days 00:07:44.357657</td>\n",
       "    </tr>\n",
       "    <tr>\n",
       "      <th>std</th>\n",
       "      <td>0.0</td>\n",
       "      <td>1.521138</td>\n",
       "      <td>0.305260</td>\n",
       "      <td>0.803386</td>\n",
       "      <td>70.898638</td>\n",
       "      <td>68.921232</td>\n",
       "      <td>0.450544</td>\n",
       "      <td>19.630188</td>\n",
       "      <td>0.570191</td>\n",
       "      <td>0.079242</td>\n",
       "      <td>1.624954</td>\n",
       "      <td>0.729766</td>\n",
       "      <td>0.004130</td>\n",
       "      <td>19.868592</td>\n",
       "      <td>0 days 01:20:56.265928</td>\n",
       "    </tr>\n",
       "    <tr>\n",
       "      <th>min</th>\n",
       "      <td>2.0</td>\n",
       "      <td>1.000000</td>\n",
       "      <td>0.000000</td>\n",
       "      <td>1.000000</td>\n",
       "      <td>1.000000</td>\n",
       "      <td>1.000000</td>\n",
       "      <td>2.000000</td>\n",
       "      <td>-374.000000</td>\n",
       "      <td>-4.500000</td>\n",
       "      <td>-0.500000</td>\n",
       "      <td>-80.000000</td>\n",
       "      <td>-38.000000</td>\n",
       "      <td>-0.300000</td>\n",
       "      <td>-374.800000</td>\n",
       "      <td>0 days 00:00:00</td>\n",
       "    </tr>\n",
       "    <tr>\n",
       "      <th>25%</th>\n",
       "      <td>2.0</td>\n",
       "      <td>1.000000</td>\n",
       "      <td>0.020000</td>\n",
       "      <td>1.000000</td>\n",
       "      <td>113.000000</td>\n",
       "      <td>107.000000</td>\n",
       "      <td>3.000000</td>\n",
       "      <td>-5.000000</td>\n",
       "      <td>-0.500000</td>\n",
       "      <td>-0.500000</td>\n",
       "      <td>0.000000</td>\n",
       "      <td>0.000000</td>\n",
       "      <td>-0.300000</td>\n",
       "      <td>-6.300000</td>\n",
       "      <td>0 days 00:00:34</td>\n",
       "    </tr>\n",
       "    <tr>\n",
       "      <th>50%</th>\n",
       "      <td>2.0</td>\n",
       "      <td>1.000000</td>\n",
       "      <td>0.170000</td>\n",
       "      <td>1.000000</td>\n",
       "      <td>162.000000</td>\n",
       "      <td>161.000000</td>\n",
       "      <td>3.000000</td>\n",
       "      <td>-3.500000</td>\n",
       "      <td>0.000000</td>\n",
       "      <td>-0.500000</td>\n",
       "      <td>0.000000</td>\n",
       "      <td>0.000000</td>\n",
       "      <td>-0.300000</td>\n",
       "      <td>-4.800000</td>\n",
       "      <td>0 days 00:01:46</td>\n",
       "    </tr>\n",
       "    <tr>\n",
       "      <th>75%</th>\n",
       "      <td>2.0</td>\n",
       "      <td>2.000000</td>\n",
       "      <td>0.540000</td>\n",
       "      <td>1.000000</td>\n",
       "      <td>234.000000</td>\n",
       "      <td>230.000000</td>\n",
       "      <td>4.000000</td>\n",
       "      <td>-2.500000</td>\n",
       "      <td>0.000000</td>\n",
       "      <td>-0.500000</td>\n",
       "      <td>0.000000</td>\n",
       "      <td>0.000000</td>\n",
       "      <td>-0.300000</td>\n",
       "      <td>-3.800000</td>\n",
       "      <td>0 days 00:03:52</td>\n",
       "    </tr>\n",
       "    <tr>\n",
       "      <th>max</th>\n",
       "      <td>2.0</td>\n",
       "      <td>7.000000</td>\n",
       "      <td>1.010000</td>\n",
       "      <td>6.000000</td>\n",
       "      <td>265.000000</td>\n",
       "      <td>265.000000</td>\n",
       "      <td>4.000000</td>\n",
       "      <td>-0.010000</td>\n",
       "      <td>0.000000</td>\n",
       "      <td>0.000000</td>\n",
       "      <td>0.000000</td>\n",
       "      <td>0.000000</td>\n",
       "      <td>0.000000</td>\n",
       "      <td>-0.310000</td>\n",
       "      <td>0 days 23:59:53</td>\n",
       "    </tr>\n",
       "  </tbody>\n",
       "</table>\n",
       "</div>"
      ],
      "text/plain": [
       "       VendorID  passenger_count  trip_distance   RatecodeID  PULocationID  \\\n",
       "count    5276.0      5276.000000    5276.000000  5276.000000   5276.000000   \n",
       "mean        2.0         1.937832       0.292798     1.223844    163.998484   \n",
       "std         0.0         1.521138       0.305260     0.803386     70.898638   \n",
       "min         2.0         1.000000       0.000000     1.000000      1.000000   \n",
       "25%         2.0         1.000000       0.020000     1.000000    113.000000   \n",
       "50%         2.0         1.000000       0.170000     1.000000    162.000000   \n",
       "75%         2.0         2.000000       0.540000     1.000000    234.000000   \n",
       "max         2.0         7.000000       1.010000     6.000000    265.000000   \n",
       "\n",
       "       DOLocationID  payment_type  fare_amount        extra      mta_tax  \\\n",
       "count   5276.000000   5276.000000  5276.000000  5276.000000  5276.000000   \n",
       "mean     157.799280      3.282221    -8.702699    -0.360785    -0.487111   \n",
       "std       68.921232      0.450544    19.630188     0.570191     0.079242   \n",
       "min        1.000000      2.000000  -374.000000    -4.500000    -0.500000   \n",
       "25%      107.000000      3.000000    -5.000000    -0.500000    -0.500000   \n",
       "50%      161.000000      3.000000    -3.500000     0.000000    -0.500000   \n",
       "75%      230.000000      4.000000    -2.500000     0.000000    -0.500000   \n",
       "max      265.000000      4.000000    -0.010000     0.000000     0.000000   \n",
       "\n",
       "        tip_amount  tolls_amount  improvement_surcharge  total_amount  \\\n",
       "count  5276.000000   5276.000000            5276.000000   5276.000000   \n",
       "mean     -0.061054     -0.039932              -0.299943     -9.955220   \n",
       "std       1.624954      0.729766               0.004130     19.868592   \n",
       "min     -80.000000    -38.000000              -0.300000   -374.800000   \n",
       "25%       0.000000      0.000000              -0.300000     -6.300000   \n",
       "50%       0.000000      0.000000              -0.300000     -4.800000   \n",
       "75%       0.000000      0.000000              -0.300000     -3.800000   \n",
       "max       0.000000      0.000000               0.000000     -0.310000   \n",
       "\n",
       "                trip_duration  \n",
       "count                    5276  \n",
       "mean   0 days 00:07:44.357657  \n",
       "std    0 days 01:20:56.265928  \n",
       "min           0 days 00:00:00  \n",
       "25%           0 days 00:00:34  \n",
       "50%           0 days 00:01:46  \n",
       "75%           0 days 00:03:52  \n",
       "max           0 days 23:59:53  "
      ]
     },
     "execution_count": 13,
     "metadata": {},
     "output_type": "execute_result"
    }
   ],
   "source": [
    "#there should be no negative fare values \n",
    "taxi_trips.loc[taxi_trips['total_amount'] < 0].describe()"
   ]
  },
  {
   "cell_type": "markdown",
   "metadata": {},
   "source": [
    "There seems to a bias in payment types (\"mean\" is 3-4) for these transactions - payment types 3 and 4 are no charge and dispute transactions. We can check out the distribution of payment types for all transactions vs. \"negative fare\" transactions to get a sense of the breakdown of payment types"
   ]
  },
  {
   "cell_type": "code",
   "execution_count": 14,
   "metadata": {},
   "outputs": [
    {
     "data": {
      "text/plain": [
       "Text(0.5, 1.0, 'Neg Fare Trips')"
      ]
     },
     "execution_count": 14,
     "metadata": {},
     "output_type": "execute_result"
    },
    {
     "data": {
      "image/png": "[encoded data removed]",
      "text/plain": [
       "<Figure size 576x864 with 2 Axes>"
      ]
     },
     "metadata": {
      "needs_background": "light"
     },
     "output_type": "display_data"
    }
   ],
   "source": [
    "neg_fare_trips = taxi_trips.loc[taxi_trips['total_amount'] < 0]\n",
    "\n",
    "fig, ax = plt.subplots(2,1, figsize = (8,12))\n",
    "sns.countplot(x = 'payment_type', data = taxi_trips, ax = ax[0])\n",
    "sns.countplot(x = \"payment_type\", data = neg_fare_trips, ax = ax[1])\n",
    "\n",
    "ax[0].set_title('All Trips')\n",
    "ax[1].set_title('Neg Fare Trips')"
   ]
  },
  {
   "cell_type": "markdown",
   "metadata": {},
   "source": [
    "Yep, as we expected the 'no charge' and 'disputed' transactions (payment_type 3 and 4) are overrepresented in the negative fare records. We should drop these records as they make up a v. small % of our total data and it will make our fare features much cleaner. "
   ]
  },
  {
   "cell_type": "code",
   "execution_count": 15,
   "metadata": {},
   "outputs": [],
   "source": [
    "neg_fare_idx = taxi_trips.loc[taxi_trips['total_amount'] < 0].index\n",
    "taxi_trips.drop(neg_fare_idx, inplace=True)"
   ]
  },
  {
   "cell_type": "markdown",
   "metadata": {},
   "source": [
    "We should now check our distribution of trip durations - we want to visually examine for outliers, such as trips that are too long or too short. "
   ]
  },
  {
   "cell_type": "code",
   "execution_count": 16,
   "metadata": {},
   "outputs": [
    {
     "data": {
      "text/plain": [
       "Text(0.5, 0, 'trip duration in sec')"
      ]
     },
     "execution_count": 16,
     "metadata": {},
     "output_type": "execute_result"
    },
    {
     "data": {
      "image/png": "[encoded data removed]",
      "text/plain": [
       "<Figure size 432x288 with 1 Axes>"
      ]
     },
     "metadata": {
      "needs_background": "light"
     },
     "output_type": "display_data"
    }
   ],
   "source": [
    "ax = sns.distplot(taxi_trips['trip_duration'].astype('timedelta64[s]'))\n",
    "ax.set_xlabel('trip duration in sec')"
   ]
  },
  {
   "cell_type": "markdown",
   "metadata": {},
   "source": [
    "Unexpectedly, we have most of our data as made up of short trips, but also we have some super shockingly long trips. We should examine the shorter trips closer. "
   ]
  },
  {
   "cell_type": "code",
   "execution_count": 17,
   "metadata": {},
   "outputs": [
    {
     "data": {
      "text/plain": [
       "Text(0.5, 0, 'trip duration in sec')"
      ]
     },
     "execution_count": 17,
     "metadata": {},
     "output_type": "execute_result"
    },
    {
     "data": {
      "image/png": "[encoded data removed]",
      "text/plain": [
       "<Figure size 432x288 with 1 Axes>"
      ]
     },
     "metadata": {
      "needs_background": "light"
     },
     "output_type": "display_data"
    }
   ],
   "source": [
    "#let's grab only trips 20 min or less\n",
    "min_time = 20*60\n",
    "short_trips = taxi_trips.loc[taxi_trips['trip_duration'] <= pd.to_timedelta(min_time, unit = 's')]['trip_duration']\n",
    "\n",
    "ax = sns.distplot(short_trips.astype('timedelta64[s]'))\n",
    "ax.set_xlabel('trip duration in sec')"
   ]
  },
  {
   "cell_type": "markdown",
   "metadata": {},
   "source": [
    "We've got a little peak at 0 (or very close to it) in trip duration, which are most likely system flukes and not real trips. Let's examine the distribution of trip durations within a very liberal time range: 0 to 24 hours. "
   ]
  },
  {
   "cell_type": "code",
   "execution_count": 18,
   "metadata": {},
   "outputs": [
    {
     "data": {
      "text/plain": [
       "Text(0.5, 0, 'trip duration in min')"
      ]
     },
     "execution_count": 18,
     "metadata": {},
     "output_type": "execute_result"
    },
    {
     "data": {
      "image/png": "[encoded data removed]",
      "text/plain": [
       "<Figure size 432x288 with 1 Axes>"
      ]
     },
     "metadata": {
      "needs_background": "light"
     },
     "output_type": "display_data"
    }
   ],
   "source": [
    "min_time = 24*60\n",
    "short_trips = taxi_trips.loc[taxi_trips['trip_duration'] <= pd.to_timedelta(min_time, unit = 'm')]['trip_duration']\n",
    "\n",
    "ax = sns.distplot(short_trips.astype('timedelta64[m]'))\n",
    "ax.set_xlabel('trip duration in min')"
   ]
  },
  {
   "cell_type": "markdown",
   "metadata": {},
   "source": [
    "Ok, so we clearly overshot where the main density of our distribution is. As expected, not many people are riding taxis beyond 3-4 hours...We can count up how many trips are longer than 3hrs. "
   ]
  },
  {
   "cell_type": "code",
   "execution_count": 19,
   "metadata": {},
   "outputs": [
    {
     "data": {
      "text/plain": [
       "20173"
      ]
     },
     "execution_count": 19,
     "metadata": {},
     "output_type": "execute_result"
    }
   ],
   "source": [
    "len(taxi_trips.loc[taxi_trips['trip_duration'] > pd.to_timedelta(3, unit = 'h')])"
   ]
  },
  {
   "cell_type": "markdown",
   "metadata": {},
   "source": [
    "That is a pretty small fraction of our dataset, which we could feel comfortable with dropping, especially since they don't seem representative of the average trip and could be due to system errors. It may be worth it to examine these long trips a little closer. We can start with looking at the relationship between trip duration and distance, which should be fairly linear. "
   ]
  },
  {
   "cell_type": "code",
   "execution_count": 20,
   "metadata": {},
   "outputs": [
    {
     "data": {
      "text/plain": [
       "Text(0, 0.5, 'trip duration (hr)')"
      ]
     },
     "execution_count": 20,
     "metadata": {},
     "output_type": "execute_result"
    },
    {
     "data": {
      "image/png": "[encoded data removed]",
      "text/plain": [
       "<Figure size 432x288 with 1 Axes>"
      ]
     },
     "metadata": {
      "needs_background": "light"
     },
     "output_type": "display_data"
    }
   ],
   "source": [
    "#make new dataframe and transform trip duration to minutes\n",
    "#copy explicitly to avoid warning of potential chained assignment\n",
    "long_trips = taxi_trips.loc[taxi_trips['trip_duration'] > pd.to_timedelta(3, unit = 'h')].copy()\n",
    "long_trips['trip_dur_hr'] = long_trips['trip_duration'].astype('timedelta64[h]') #convert to min\n",
    "\n",
    "ax = sns.scatterplot(x=\"trip_distance\", y=\"trip_dur_hr\", data=long_trips)\n",
    "ax.set_xlabel('trip distance (mi)')\n",
    "ax.set_ylabel('trip duration (hr)')"
   ]
  },
  {
   "cell_type": "code",
   "execution_count": 21,
   "metadata": {},
   "outputs": [
    {
     "data": {
      "text/plain": [
       "Text(0, 0.5, 'trip duration (hr)')"
      ]
     },
     "execution_count": 21,
     "metadata": {},
     "output_type": "execute_result"
    },
    {
     "data": {
      "image/png": "[encoded data removed]",
      "text/plain": [
       "<Figure size 432x288 with 1 Axes>"
      ]
     },
     "metadata": {
      "needs_background": "light"
     },
     "output_type": "display_data"
    }
   ],
   "source": [
    "ax = sns.scatterplot(x=\"total_amount\", y=\"trip_dur_hr\", data=long_trips)\n",
    "ax.set_xlabel('total fare ($)')\n",
    "ax.set_ylabel('trip duration (hr)')"
   ]
  },
  {
   "cell_type": "markdown",
   "metadata": {},
   "source": [
    "We definitely do not see a linear relationship between trip duration and trip distance/total fare for these long trips. We have trips lasting 24 hrs that cost anything from \\\\$0-\\\\$300. I feel fairly comfortable dropping these observations from our total dataset. We can now examine the other end of the scale - how many trips we have that had a duration of less than 1 min."
   ]
  },
  {
   "cell_type": "code",
   "execution_count": 37,
   "metadata": {},
   "outputs": [
    {
     "data": {
      "text/plain": [
       "81396"
      ]
     },
     "execution_count": 37,
     "metadata": {},
     "output_type": "execute_result"
    }
   ],
   "source": [
    "len(taxi_trips.loc[taxi_trips['trip_duration'] <= pd.to_timedelta(1, unit = 'm')])"
   ]
  },
  {
   "cell_type": "code",
   "execution_count": 34,
   "metadata": {},
   "outputs": [
    {
     "data": {
      "text/plain": [
       "<matplotlib.axes._subplots.AxesSubplot at 0x1a1b57cb10>"
      ]
     },
     "execution_count": 34,
     "metadata": {},
     "output_type": "execute_result"
    },
    {
     "data": {
      "image/png": "[encoded data removed]",
      "text/plain": [
       "<Figure size 432x288 with 1 Axes>"
      ]
     },
     "metadata": {
      "needs_background": "light"
     },
     "output_type": "display_data"
    }
   ],
   "source": [
    "#make new dataframe and transform trip duration to seconds\n",
    "#copy explicitly to avoid warning of potential chained assignment\n",
    "one_min_trips = taxi_trips.loc[taxi_trips['trip_duration'] <= pd.to_timedelta(1, unit = 'm')].copy()\n",
    "one_min_trips['trip_dur_sec'] = one_min_trips['trip_duration'].astype('timedelta64[s]') #convert to sec\n",
    "\n",
    "sns.distplot(one_min_trips[\"trip_distance\"])"
   ]
  },
  {
   "cell_type": "code",
   "execution_count": 35,
   "metadata": {},
   "outputs": [
    {
     "data": {
      "text/plain": [
       "count    81396.000000\n",
       "mean         0.506175\n",
       "std          2.678080\n",
       "min          0.000000\n",
       "25%          0.000000\n",
       "50%          0.000000\n",
       "75%          0.120000\n",
       "max        211.600000\n",
       "Name: trip_distance, dtype: float64"
      ]
     },
     "execution_count": 35,
     "metadata": {},
     "output_type": "execute_result"
    }
   ],
   "source": [
    "one_min_trips[\"trip_distance\"].describe()"
   ]
  },
  {
   "cell_type": "markdown",
   "metadata": {},
   "source": [
    "Through the plot and summary stats, we can see that the taxi doesn't move during these short trips, with the exception of one instance where a taxi seems to have traveled 211 miles in less than a minute, which means it moved at 12,660 mph (Elon Musk's Tesla Roadster??). We can go ahead and remove trips lasting < 1min as they don't seem to reflect actual taxi trips. "
   ]
  },
  {
   "cell_type": "markdown",
   "metadata": {},
   "source": [
    "Perhaps a more convenient way of sorting out trips that don't make sense would be to look at the distribution of average trip speeds - this way we can look out for weird patterns in both trip time and trip distance. Like in the above example of a cab traveling 200+mi in 1min or on the other hand, traveling 0mi in 1+days. "
   ]
  },
  {
   "cell_type": "code",
   "execution_count": 40,
   "metadata": {},
   "outputs": [],
   "source": [
    "#let's remove all trips with time_duration of 0 so we are not dealing with infinity\n",
    "#trips with time duration 0 don't seem to reflect real taxi trips anyway\n",
    "\n",
    "zero_time_idx = taxi_trips.loc[taxi_trips['trip_duration'] <= pd.to_timedelta(0, unit='s')].index\n",
    "taxi_trips.drop(zero_time_idx, inplace=True)"
   ]
  },
  {
   "cell_type": "code",
   "execution_count": 52,
   "metadata": {},
   "outputs": [],
   "source": [
    "#now let's make a column with trip speed in mph\n",
    "taxi_trips['trip_speed'] = (taxi_trips['trip_distance']/taxi_trips['trip_duration'].astype('timedelta64[s]'))*60*60"
   ]
  },
  {
   "cell_type": "code",
   "execution_count": 53,
   "metadata": {},
   "outputs": [
    {
     "data": {
      "text/plain": [
       "<matplotlib.axes._subplots.AxesSubplot at 0x1a1effdf10>"
      ]
     },
     "execution_count": 53,
     "metadata": {},
     "output_type": "execute_result"
    },
    {
     "data": {
      "image/png": "[encoded data removed]",
      "text/plain": [
       "<Figure size 432x288 with 1 Axes>"
      ]
     },
     "metadata": {
      "needs_background": "light"
     },
     "output_type": "display_data"
    }
   ],
   "source": [
    "#plot distribution\n",
    "sns.distplot(taxi_trips[\"trip_speed\"])"
   ]
  },
  {
   "cell_type": "markdown",
   "metadata": {},
   "source": [
    "Those are some super speedy taxi rides - let's take a look at the summary stats"
   ]
  },
  {
   "cell_type": "code",
   "execution_count": 54,
   "metadata": {},
   "outputs": [
    {
     "data": {
      "text/plain": [
       "count    9.417326e+06\n",
       "mean     1.305867e+01\n",
       "std      1.619622e+02\n",
       "min      0.000000e+00\n",
       "25%      7.505017e+00\n",
       "50%      1.000000e+01\n",
       "75%      1.350832e+01\n",
       "max      1.656000e+05\n",
       "Name: trip_speed, dtype: float64"
      ]
     },
     "execution_count": 54,
     "metadata": {},
     "output_type": "execute_result"
    }
   ],
   "source": [
    "taxi_trips[\"trip_speed\"].describe()"
   ]
  },
  {
   "cell_type": "markdown",
   "metadata": {},
   "source": [
    "We have most of our taxi rides in the low mph range, but with some crazy large outliers and some trips with 0 speed. Let's examine the taxi speeds again, ignoring the unreasonably fast rides."
   ]
  },
  {
   "cell_type": "code",
   "execution_count": 56,
   "metadata": {},
   "outputs": [
    {
     "data": {
      "text/plain": [
       "<matplotlib.axes._subplots.AxesSubplot at 0x1a1fc2cdd0>"
      ]
     },
     "execution_count": 56,
     "metadata": {},
     "output_type": "execute_result"
    },
    {
     "data": {
      "image/png": "[encoded data removed]",
      "text/plain": [
       "<Figure size 432x288 with 1 Axes>"
      ]
     },
     "metadata": {
      "needs_background": "light"
     },
     "output_type": "display_data"
    }
   ],
   "source": [
    "sns.distplot(taxi_trips.loc[(taxi_trips[\"trip_speed\"] < 100), 'trip_speed']) #plot only trips less than 100mph"
   ]
  },
  {
   "cell_type": "markdown",
   "metadata": {},
   "source": [
    "This is more reasonable! We now see a slightly right skewed distribution of speeds with an appropriate range of 0-40mph. We can use this to draw some cut-offs; for example, we can drop trips < 5mph and > 55mph. "
   ]
  },
  {
   "cell_type": "code",
   "execution_count": 57,
   "metadata": {},
   "outputs": [
    {
     "data": {
      "text/plain": [
       "645233"
      ]
     },
     "execution_count": 57,
     "metadata": {},
     "output_type": "execute_result"
    }
   ],
   "source": [
    "outlier_speed_idx = taxi_trips.loc[(taxi_trips['trip_speed'] < 5.0) | (taxi_trips['trip_speed'] > 55.0) ].index\n",
    "len(outlier_speed_idx)"
   ]
  },
  {
   "cell_type": "markdown",
   "metadata": {},
   "source": [
    "This is a more sizable chunk of our dataset than the previous records that we dropped, but it is still a small fraction of the total 9+ million records that we have. We have some reasonable expectation that trips averaging <5mph or >55mph are extremes based on the trip speed distribution, so it is valid to drop them. "
   ]
  },
  {
   "cell_type": "code",
   "execution_count": 58,
   "metadata": {},
   "outputs": [
    {
     "data": {
      "text/plain": [
       "(8772093, 19)"
      ]
     },
     "execution_count": 58,
     "metadata": {},
     "output_type": "execute_result"
    }
   ],
   "source": [
    "taxi_trips.drop(outlier_speed_idx, inplace = True)\n",
    "taxi_trips.shape"
   ]
  },
  {
   "cell_type": "markdown",
   "metadata": {},
   "source": [
    "Let's examine the summary stats/distributions for trip duration and distance one more time to make sure that we handled all of the outlier records. "
   ]
  },
  {
   "cell_type": "code",
   "execution_count": 60,
   "metadata": {},
   "outputs": [
    {
     "data": {
      "text/plain": [
       "<matplotlib.axes._subplots.AxesSubplot at 0x1a1eec2950>"
      ]
     },
     "execution_count": 60,
     "metadata": {},
     "output_type": "execute_result"
    },
    {
     "data": {
      "image/png": "[encoded data removed]",
      "text/plain": [
       "<Figure size 1080x432 with 3 Axes>"
      ]
     },
     "metadata": {
      "needs_background": "light"
     },
     "output_type": "display_data"
    }
   ],
   "source": [
    "fig, ax = plt.subplots(1,3, figsize = (15,6))\n",
    "sns.distplot(taxi_trips[\"trip_speed\"], ax = ax[0])\n",
    "sns.distplot(taxi_trips[\"trip_duration\"].astype('timedelta64[m]'), ax = ax[1])\n",
    "sns.distplot(taxi_trips[\"trip_distance\"], ax = ax[2])"
   ]
  },
  {
   "cell_type": "code",
   "execution_count": 64,
   "metadata": {},
   "outputs": [
    {
     "data": {
      "text/html": [
       "<div>\n",
       "<style scoped>\n",
       "    .dataframe tbody tr th:only-of-type {\n",
       "        vertical-align: middle;\n",
       "    }\n",
       "\n",
       "    .dataframe tbody tr th {\n",
       "        vertical-align: top;\n",
       "    }\n",
       "\n",
       "    .dataframe thead th {\n",
       "        text-align: right;\n",
       "    }\n",
       "</style>\n",
       "<table border=\"1\" class=\"dataframe\">\n",
       "  <thead>\n",
       "    <tr style=\"text-align: right;\">\n",
       "      <th></th>\n",
       "      <th>trip_duration</th>\n",
       "      <th>trip_distance</th>\n",
       "    </tr>\n",
       "  </thead>\n",
       "  <tbody>\n",
       "    <tr>\n",
       "      <th>count</th>\n",
       "      <td>8772093</td>\n",
       "      <td>8.772093e+06</td>\n",
       "    </tr>\n",
       "    <tr>\n",
       "      <th>mean</th>\n",
       "      <td>0 days 00:13:45.948771</td>\n",
       "      <td>3.001293e+00</td>\n",
       "    </tr>\n",
       "    <tr>\n",
       "      <th>std</th>\n",
       "      <td>0 days 00:11:29.781764</td>\n",
       "      <td>3.795844e+00</td>\n",
       "    </tr>\n",
       "    <tr>\n",
       "      <th>min</th>\n",
       "      <td>0 days 00:00:01</td>\n",
       "      <td>1.000000e-02</td>\n",
       "    </tr>\n",
       "    <tr>\n",
       "      <th>25%</th>\n",
       "      <td>0 days 00:06:17</td>\n",
       "      <td>1.000000e+00</td>\n",
       "    </tr>\n",
       "    <tr>\n",
       "      <th>50%</th>\n",
       "      <td>0 days 00:10:29</td>\n",
       "      <td>1.700000e+00</td>\n",
       "    </tr>\n",
       "    <tr>\n",
       "      <th>75%</th>\n",
       "      <td>0 days 00:17:22</td>\n",
       "      <td>3.100000e+00</td>\n",
       "    </tr>\n",
       "    <tr>\n",
       "      <th>max</th>\n",
       "      <td>0 days 23:02:12</td>\n",
       "      <td>3.028000e+02</td>\n",
       "    </tr>\n",
       "  </tbody>\n",
       "</table>\n",
       "</div>"
      ],
      "text/plain": [
       "                trip_duration  trip_distance\n",
       "count                 8772093   8.772093e+06\n",
       "mean   0 days 00:13:45.948771   3.001293e+00\n",
       "std    0 days 00:11:29.781764   3.795844e+00\n",
       "min           0 days 00:00:01   1.000000e-02\n",
       "25%           0 days 00:06:17   1.000000e+00\n",
       "50%           0 days 00:10:29   1.700000e+00\n",
       "75%           0 days 00:17:22   3.100000e+00\n",
       "max           0 days 23:02:12   3.028000e+02"
      ]
     },
     "execution_count": 64,
     "metadata": {},
     "output_type": "execute_result"
    }
   ],
   "source": [
    "taxi_trips[['trip_duration','trip_distance']].describe()"
   ]
  },
  {
   "cell_type": "markdown",
   "metadata": {},
   "source": [
    "As we might expect, we got rid of some of the more egregiously weird records, but not all of them. We still see trips as long as 24hrs and trip distances of 300mi. While it's possible that someone did take a 300 mi trip in 24hrs (or something to that effect), it's obvious that these types of records fall far outside the distribution of normal taxi cab ride parameters. Therefore, we should also go ahead and drop cab rides <1min and >4hr, as well as trip distances <0.25mi and >50mi as reasonable, but liberal, thresholds based on our distribution and prior knowledge of cab rides."
   ]
  },
  {
   "cell_type": "code",
   "execution_count": 74,
   "metadata": {},
   "outputs": [
    {
     "name": "stdout",
     "output_type": "stream",
     "text": [
      "45340\n"
     ]
    }
   ],
   "source": [
    "#how many records to drop?\n",
    "outlier_time_dist_idx = taxi_trips.loc[(taxi_trips['trip_duration'] <= pd.to_timedelta(1, unit = 'm')) | \\\n",
    "                                  (taxi_trips['trip_duration'] >= pd.to_timedelta(4, unit = 'h')) | \\\n",
    "                                  (taxi_trips['trip_distance'] < 0.25) | \\\n",
    "                                  (taxi_trips['trip_distance'] > 50) ].index\n",
    "print(len(outlier_time_dist_idx))"
   ]
  },
  {
   "cell_type": "code",
   "execution_count": 75,
   "metadata": {},
   "outputs": [
    {
     "data": {
      "text/plain": [
       "(8726753, 19)"
      ]
     },
     "execution_count": 75,
     "metadata": {},
     "output_type": "execute_result"
    }
   ],
   "source": [
    "#drop records\n",
    "taxi_trips.drop(outlier_time_dist_idx, inplace = True)\n",
    "taxi_trips.shape"
   ]
  },
  {
   "cell_type": "code",
   "execution_count": 76,
   "metadata": {},
   "outputs": [
    {
     "data": {
      "text/plain": [
       "<matplotlib.axes._subplots.AxesSubplot at 0x1a1f6e5a50>"
      ]
     },
     "execution_count": 76,
     "metadata": {},
     "output_type": "execute_result"
    },
    {
     "data": {
      "image/png": "[encoded data removed]",
      "text/plain": [
       "<Figure size 1080x432 with 3 Axes>"
      ]
     },
     "metadata": {
      "needs_background": "light"
     },
     "output_type": "display_data"
    }
   ],
   "source": [
    "#plot distributions again\n",
    "fig, ax = plt.subplots(1,3, figsize = (15,6))\n",
    "sns.distplot(taxi_trips[\"trip_speed\"], ax = ax[0])\n",
    "sns.distplot(taxi_trips[\"trip_duration\"].astype('timedelta64[m]'), ax = ax[1])\n",
    "sns.distplot(taxi_trips[\"trip_distance\"], ax = ax[2])"
   ]
  },
  {
   "cell_type": "code",
   "execution_count": 77,
   "metadata": {},
   "outputs": [
    {
     "data": {
      "text/html": [
       "<div>\n",
       "<style scoped>\n",
       "    .dataframe tbody tr th:only-of-type {\n",
       "        vertical-align: middle;\n",
       "    }\n",
       "\n",
       "    .dataframe tbody tr th {\n",
       "        vertical-align: top;\n",
       "    }\n",
       "\n",
       "    .dataframe thead th {\n",
       "        text-align: right;\n",
       "    }\n",
       "</style>\n",
       "<table border=\"1\" class=\"dataframe\">\n",
       "  <thead>\n",
       "    <tr style=\"text-align: right;\">\n",
       "      <th></th>\n",
       "      <th>trip_speed</th>\n",
       "      <th>trip_duration</th>\n",
       "      <th>trip_distance</th>\n",
       "    </tr>\n",
       "  </thead>\n",
       "  <tbody>\n",
       "    <tr>\n",
       "      <th>count</th>\n",
       "      <td>8.726753e+06</td>\n",
       "      <td>8726753</td>\n",
       "      <td>8.726753e+06</td>\n",
       "    </tr>\n",
       "    <tr>\n",
       "      <th>mean</th>\n",
       "      <td>1.188127e+01</td>\n",
       "      <td>0 days 00:13:49.565453</td>\n",
       "      <td>3.013168e+00</td>\n",
       "    </tr>\n",
       "    <tr>\n",
       "      <th>std</th>\n",
       "      <td>5.767153e+00</td>\n",
       "      <td>0 days 00:11:26.920014</td>\n",
       "      <td>3.773727e+00</td>\n",
       "    </tr>\n",
       "    <tr>\n",
       "      <th>min</th>\n",
       "      <td>5.000000e+00</td>\n",
       "      <td>0 days 00:01:01</td>\n",
       "      <td>2.500000e-01</td>\n",
       "    </tr>\n",
       "    <tr>\n",
       "      <th>25%</th>\n",
       "      <td>8.027027e+00</td>\n",
       "      <td>0 days 00:06:20</td>\n",
       "      <td>1.000000e+00</td>\n",
       "    </tr>\n",
       "    <tr>\n",
       "      <th>50%</th>\n",
       "      <td>1.037037e+01</td>\n",
       "      <td>0 days 00:10:32</td>\n",
       "      <td>1.700000e+00</td>\n",
       "    </tr>\n",
       "    <tr>\n",
       "      <th>75%</th>\n",
       "      <td>1.384615e+01</td>\n",
       "      <td>0 days 00:17:25</td>\n",
       "      <td>3.100000e+00</td>\n",
       "    </tr>\n",
       "    <tr>\n",
       "      <th>max</th>\n",
       "      <td>5.499440e+01</td>\n",
       "      <td>0 days 03:58:18</td>\n",
       "      <td>5.000000e+01</td>\n",
       "    </tr>\n",
       "  </tbody>\n",
       "</table>\n",
       "</div>"
      ],
      "text/plain": [
       "         trip_speed           trip_duration  trip_distance\n",
       "count  8.726753e+06                 8726753   8.726753e+06\n",
       "mean   1.188127e+01  0 days 00:13:49.565453   3.013168e+00\n",
       "std    5.767153e+00  0 days 00:11:26.920014   3.773727e+00\n",
       "min    5.000000e+00         0 days 00:01:01   2.500000e-01\n",
       "25%    8.027027e+00         0 days 00:06:20   1.000000e+00\n",
       "50%    1.037037e+01         0 days 00:10:32   1.700000e+00\n",
       "75%    1.384615e+01         0 days 00:17:25   3.100000e+00\n",
       "max    5.499440e+01         0 days 03:58:18   5.000000e+01"
      ]
     },
     "execution_count": 77,
     "metadata": {},
     "output_type": "execute_result"
    }
   ],
   "source": [
    "taxi_trips[['trip_speed','trip_duration','trip_distance']].describe()"
   ]
  },
  {
   "cell_type": "markdown",
   "metadata": {},
   "source": [
    "We still have a right skew to our distributions, which shows that we have some cab rides that are much longer/farther than usual, but the ranges of our features are aligned with more realistic cab ride parameters, so these records are less suspect. The goal of this was to remove trips from our dataset that did not reflect \"real\" cab ride parameters shown by the majority of the records. We want to train our model to predict real cab ride durations, not system noise. "
   ]
  },
  {
   "cell_type": "markdown",
   "metadata": {},
   "source": [
    "## Feature Engineering\n",
    "\n",
    "For our models to work, we should format our features in a "
   ]
  }
 ],
 "metadata": {
  "kernelspec": {
   "display_name": "Python 3.7.4 64-bit ('109a': conda)",
   "language": "python",
   "name": "python37464bit109aconda17fbc35b70e04d1eb12e4c88d589c7bd"
  },
  "language_info": {
   "codemirror_mode": {
    "name": "ipython",
    "version": 3
   },
   "file_extension": ".py",
   "mimetype": "text/x-python",
   "name": "python",
   "nbconvert_exporter": "python",
   "pygments_lexer": "ipython3",
   "version": "3.7.4"
  }
 },
 "nbformat": 4,
 "nbformat_minor": 4
}
