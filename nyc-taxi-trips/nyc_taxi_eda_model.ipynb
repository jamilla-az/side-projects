{
 "cells": [
  {
   "cell_type": "markdown",
   "metadata": {},
   "source": [
    "# Predicting Taxi Trip Durations using KNN and Linear Regression\n",
    "\n",
    "This notebook was inspired by the [Kaggle competition](https://kaggle.com/c/nyc-taxi-trip-duration). I accessed the March 2018 Yellow Cab trip data from the [New York Taxi and Limousine Corporation Trip Record Data](https://www1.nyc.gov/site/tlc/about/tlc-trip-record-data.page) site for my analysis. \n",
    "\n",
    "The goal of this notebook is to explore concepts in KNN and linear regression using this dataset and assess the power of these models on predicting trip duration from location, time, and other variables. The motivation to do this is to apply theoretical concepts from data science to a real-world example in order to better understand these core concepts. "
   ]
  },
  {
   "cell_type": "markdown",
   "metadata": {},
   "source": [
    "## EDA and Feature Engineering\n",
    "\n",
    "The first step is to examine the data (exploratory data analysis) and transform/engineer some of the features as needed in order to make the models work. Let's examine the data set:"
   ]
  },
  {
   "cell_type": "code",
   "execution_count": 1,
   "metadata": {},
   "outputs": [],
   "source": [
    "# load in libraries for EDA, feature engineering\n",
    "\n",
    "import numpy as np\n",
    "import pandas as pd\n",
    "import matplotlib\n",
    "import matplotlib.pyplot as plt\n",
    "import seaborn as sns\n",
    "import geopy"
   ]
  },
  {
   "cell_type": "code",
   "execution_count": 2,
   "metadata": {},
   "outputs": [
    {
     "output_type": "execute_result",
     "data": {
      "text/plain": "   VendorID tpep_pickup_datetime tpep_dropoff_datetime  passenger_count  \\\n0         1  2018-03-01 00:01:34   2018-03-01 00:01:43                1   \n1         1  2018-03-01 00:14:34   2018-03-01 00:28:13                1   \n2         1  2018-03-01 00:51:25   2018-03-01 00:59:54                1   \n3         1  2018-03-01 00:00:01   2018-03-01 00:00:17                1   \n4         1  2018-03-01 00:55:10   2018-03-01 00:56:36                1   \n\n   trip_distance  RatecodeID store_and_fwd_flag  PULocationID  DOLocationID  \\\n0            0.0           1                  N           145           145   \n1            3.3           1                  N           151           244   \n2            2.7           1                  N           238           152   \n3            0.0           1                  N           145           145   \n4            3.7           1                  N           145           145   \n\n   payment_type  fare_amount  extra  mta_tax  tip_amount  tolls_amount  \\\n0             2          2.5    0.5      0.5        0.00           0.0   \n1             1         13.0    0.5      0.5        2.85           0.0   \n2             2         10.0    0.5      0.5        0.00           0.0   \n3             2          2.5    0.5      0.5        0.00           0.0   \n4             2          3.0    0.5      0.5        0.00           0.0   \n\n   improvement_surcharge  total_amount  \n0                    0.3          3.80  \n1                    0.3         17.15  \n2                    0.3         11.30  \n3                    0.3          3.80  \n4                    0.3          4.30  ",
      "text/html": "<div>\n<style scoped>\n    .dataframe tbody tr th:only-of-type {\n        vertical-align: middle;\n    }\n\n    .dataframe tbody tr th {\n        vertical-align: top;\n    }\n\n    .dataframe thead th {\n        text-align: right;\n    }\n</style>\n<table border=\"1\" class=\"dataframe\">\n  <thead>\n    <tr style=\"text-align: right;\">\n      <th></th>\n      <th>VendorID</th>\n      <th>tpep_pickup_datetime</th>\n      <th>tpep_dropoff_datetime</th>\n      <th>passenger_count</th>\n      <th>trip_distance</th>\n      <th>RatecodeID</th>\n      <th>store_and_fwd_flag</th>\n      <th>PULocationID</th>\n      <th>DOLocationID</th>\n      <th>payment_type</th>\n      <th>fare_amount</th>\n      <th>extra</th>\n      <th>mta_tax</th>\n      <th>tip_amount</th>\n      <th>tolls_amount</th>\n      <th>improvement_surcharge</th>\n      <th>total_amount</th>\n    </tr>\n  </thead>\n  <tbody>\n    <tr>\n      <th>0</th>\n      <td>1</td>\n      <td>2018-03-01 00:01:34</td>\n      <td>2018-03-01 00:01:43</td>\n      <td>1</td>\n      <td>0.0</td>\n      <td>1</td>\n      <td>N</td>\n      <td>145</td>\n      <td>145</td>\n      <td>2</td>\n      <td>2.5</td>\n      <td>0.5</td>\n      <td>0.5</td>\n      <td>0.00</td>\n      <td>0.0</td>\n      <td>0.3</td>\n      <td>3.80</td>\n    </tr>\n    <tr>\n      <th>1</th>\n      <td>1</td>\n      <td>2018-03-01 00:14:34</td>\n      <td>2018-03-01 00:28:13</td>\n      <td>1</td>\n      <td>3.3</td>\n      <td>1</td>\n      <td>N</td>\n      <td>151</td>\n      <td>244</td>\n      <td>1</td>\n      <td>13.0</td>\n      <td>0.5</td>\n      <td>0.5</td>\n      <td>2.85</td>\n      <td>0.0</td>\n      <td>0.3</td>\n      <td>17.15</td>\n    </tr>\n    <tr>\n      <th>2</th>\n      <td>1</td>\n      <td>2018-03-01 00:51:25</td>\n      <td>2018-03-01 00:59:54</td>\n      <td>1</td>\n      <td>2.7</td>\n      <td>1</td>\n      <td>N</td>\n      <td>238</td>\n      <td>152</td>\n      <td>2</td>\n      <td>10.0</td>\n      <td>0.5</td>\n      <td>0.5</td>\n      <td>0.00</td>\n      <td>0.0</td>\n      <td>0.3</td>\n      <td>11.30</td>\n    </tr>\n    <tr>\n      <th>3</th>\n      <td>1</td>\n      <td>2018-03-01 00:00:01</td>\n      <td>2018-03-01 00:00:17</td>\n      <td>1</td>\n      <td>0.0</td>\n      <td>1</td>\n      <td>N</td>\n      <td>145</td>\n      <td>145</td>\n      <td>2</td>\n      <td>2.5</td>\n      <td>0.5</td>\n      <td>0.5</td>\n      <td>0.00</td>\n      <td>0.0</td>\n      <td>0.3</td>\n      <td>3.80</td>\n    </tr>\n    <tr>\n      <th>4</th>\n      <td>1</td>\n      <td>2018-03-01 00:55:10</td>\n      <td>2018-03-01 00:56:36</td>\n      <td>1</td>\n      <td>3.7</td>\n      <td>1</td>\n      <td>N</td>\n      <td>145</td>\n      <td>145</td>\n      <td>2</td>\n      <td>3.0</td>\n      <td>0.5</td>\n      <td>0.5</td>\n      <td>0.00</td>\n      <td>0.0</td>\n      <td>0.3</td>\n      <td>4.30</td>\n    </tr>\n  </tbody>\n</table>\n</div>"
     },
     "metadata": {},
     "execution_count": 2
    }
   ],
   "source": [
    "#load dataset into pandas dataframe\n",
    "taxi_trips = pd.read_csv('yellow_tripdata_2018-03.csv')\n",
    "taxi_trips.head()"
   ]
  },
  {
   "cell_type": "code",
   "execution_count": 3,
   "metadata": {},
   "outputs": [
    {
     "output_type": "execute_result",
     "data": {
      "text/plain": "(9430376, 17)"
     },
     "metadata": {},
     "execution_count": 3
    }
   ],
   "source": [
    "#how many records/features do we have?\n",
    "taxi_trips.shape"
   ]
  },
  {
   "cell_type": "markdown",
   "metadata": {},
   "source": [
    "We have more than 9 million trips in March alone! We also have 17 feature columns (predictors). We can get information on what each of these features represents from the [TLC Data Dictionary](https://www1.nyc.gov/assets/tlc/downloads/pdf/data_dictionary_trip_records_yellow.pdf). Some of the fields are:\n",
    "\n",
    "* **VendorID** - what provider gave the record\n",
    "* **Pickup/Dropoff datetime** - time of pickup and dropoff\n",
    "* **Passenger count** - driver reported number of passengers\n",
    "* **Trip distance** - elapsed trip distance (miles) as reported by taximeter\n",
    "* **PU/DO LocationID** - taxi location zone of pickup (PU) and dropoff (DO)\n",
    "* **RatecodeID** - the type of rate used\n",
    "\n",
    "We should check our records for missingness and inconsistent values so that we can clean our dataset. We may also consider randomly dropping a fraction of the observations, since in this toy example, we may not want to mess around with all 9+ million records (for efficiency and speed of modeling). "
   ]
  },
  {
   "cell_type": "code",
   "execution_count": 7,
   "metadata": {},
   "outputs": [
    {
     "output_type": "execute_result",
     "data": {
      "text/plain": "VendorID                 0\ntpep_pickup_datetime     0\ntpep_dropoff_datetime    0\npassenger_count          0\ntrip_distance            0\nRatecodeID               0\nstore_and_fwd_flag       0\nPULocationID             0\nDOLocationID             0\npayment_type             0\nfare_amount              0\nextra                    0\nmta_tax                  0\ntip_amount               0\ntolls_amount             0\nimprovement_surcharge    0\ntotal_amount             0\ndtype: int64"
     },
     "metadata": {},
     "execution_count": 7
    }
   ],
   "source": [
    "#check for missingness\n",
    "taxi_trips.isnull().sum() #isnull generates a boolean and sum sums up the number of \"True\" instances"
   ]
  },
  {
   "cell_type": "code",
   "execution_count": 8,
   "metadata": {},
   "outputs": [
    {
     "output_type": "execute_result",
     "data": {
      "text/plain": "VendorID                   int64\ntpep_pickup_datetime      object\ntpep_dropoff_datetime     object\npassenger_count            int64\ntrip_distance            float64\nRatecodeID                 int64\nstore_and_fwd_flag        object\nPULocationID               int64\nDOLocationID               int64\npayment_type               int64\nfare_amount              float64\nextra                    float64\nmta_tax                  float64\ntip_amount               float64\ntolls_amount             float64\nimprovement_surcharge    float64\ntotal_amount             float64\ndtype: object"
     },
     "metadata": {},
     "execution_count": 8
    }
   ],
   "source": [
    "#look at data types\n",
    "taxi_trips.dtypes"
   ]
  },
  {
   "cell_type": "markdown",
   "metadata": {},
   "source": [
    "We don't have any NaNs in our dataset which is nice. An examination of the data types shows that everything seems to be above board - fares are floats, IDs are ints, flags are text objects. The only issue is our datetime columns are objects (Pandas strings) and not actual datetime objects. We can correct that by switching the column type. "
   ]
  },
  {
   "cell_type": "code",
   "execution_count": 15,
   "metadata": {},
   "outputs": [
    {
     "output_type": "execute_result",
     "data": {
      "text/plain": "0   2018-03-01 00:01:34\n1   2018-03-01 00:14:34\n2   2018-03-01 00:51:25\n3   2018-03-01 00:00:01\n4   2018-03-01 00:55:10\nName: tpep_pickup_datetime, dtype: datetime64[ns]"
     },
     "metadata": {},
     "execution_count": 15
    }
   ],
   "source": [
    "#cast datetime columns into datetime format\n",
    "#try to infer format of strings to speed up process\n",
    "taxi_trips['tpep_pickup_datetime'] = pd.to_datetime(taxi_trips['tpep_pickup_datetime'], infer_datetime_format=True)\n",
    "taxi_trips['tpep_dropoff_datetime'] = pd.to_datetime(taxi_trips['tpep_dropoff_datetime'], infer_datetime_format=True)\n",
    "taxi_trips['tpep_pickup_datetime'].head()"
   ]
  },
  {
   "cell_type": "markdown",
   "metadata": {},
   "source": [
    "Now might a time to try some feature engineering - we don't actually have a column for trip duration (what we want to predict), but now that we have two columns with datetime format, we can easily make a new column with that data from them. "
   ]
  },
  {
   "cell_type": "code",
   "execution_count": 18,
   "metadata": {},
   "outputs": [
    {
     "output_type": "execute_result",
     "data": {
      "text/plain": "Timedelta('0 days 00:13:29')"
     },
     "metadata": {},
     "execution_count": 18
    }
   ],
   "source": [
    "taxi_trips['tpep_dropoff_datetime'][101] - taxi_trips['tpep_pickup_datetime'][101]\n",
    "#taking the difference between two datetimes produces a timedelta (absolute difference in time)\n",
    "#in this case 13 minutes and 29 seconds"
   ]
  },
  {
   "cell_type": "code",
   "execution_count": 24,
   "metadata": {},
   "outputs": [
    {
     "output_type": "execute_result",
     "data": {
      "text/plain": "0   00:00:09\n1   00:13:39\n2   00:08:29\n3   00:00:16\n4   00:01:26\nName: trip_duration, dtype: timedelta64[ns]"
     },
     "metadata": {},
     "execution_count": 24
    }
   ],
   "source": [
    "#create new timedelta column trip_duration\n",
    "\n",
    "taxi_trips['trip_duration'] = taxi_trips['tpep_dropoff_datetime'] - taxi_trips['tpep_pickup_datetime']\n",
    "taxi_trips['trip_duration'].head()"
   ]
  },
  {
   "cell_type": "markdown",
   "metadata": {},
   "source": [
    "We should look at some summary statistics of our dataset to make sure that all of the values for the numeric columns make sense"
   ]
  },
  {
   "cell_type": "code",
   "execution_count": 25,
   "metadata": {},
   "outputs": [
    {
     "output_type": "execute_result",
     "data": {
      "text/plain": "           VendorID  passenger_count  trip_distance    RatecodeID  \\\ncount  9.430376e+06     9.430376e+06   9.430376e+06  9.430376e+06   \nmean   1.567604e+00     1.601390e+00   2.864808e+00  1.042197e+00   \nstd    4.954086e-01     1.247606e+00   3.722331e+00  4.704546e-01   \nmin    1.000000e+00     0.000000e+00   0.000000e+00  1.000000e+00   \n25%    1.000000e+00     1.000000e+00   9.400000e-01  1.000000e+00   \n50%    2.000000e+00     1.000000e+00   1.600000e+00  1.000000e+00   \n75%    2.000000e+00     2.000000e+00   2.940000e+00  1.000000e+00   \nmax    2.000000e+00     9.000000e+00   3.028000e+02  9.900000e+01   \n\n       PULocationID  DOLocationID  payment_type   fare_amount         extra  \\\ncount  9.430376e+06  9.430376e+06  9.430376e+06  9.430376e+06  9.430376e+06   \nmean   1.629755e+02  1.611061e+02  1.312569e+00  1.265681e+01  3.343034e-01   \nstd    6.664959e+01  7.051072e+01  4.840774e-01  9.631818e+01  4.645647e-01   \nmin    1.000000e+00  1.000000e+00  1.000000e+00 -3.740000e+02 -6.000000e+01   \n25%    1.140000e+02  1.070000e+02  1.000000e+00  6.500000e+00  0.000000e+00   \n50%    1.620000e+02  1.620000e+02  1.000000e+00  9.000000e+00  0.000000e+00   \n75%    2.330000e+02  2.330000e+02  2.000000e+00  1.400000e+01  5.000000e-01   \nmax    2.650000e+02  2.650000e+02  4.000000e+00  2.147484e+05  6.666000e+01   \n\n            mta_tax    tip_amount  tolls_amount  improvement_surcharge  \\\ncount  9.430376e+06  9.430376e+06  9.430376e+06           9.430376e+06   \nmean   4.973344e-01  1.847916e+00  3.253465e-01           3.000036e-01   \nstd    7.003697e-02  2.565877e+00  1.663388e+00           1.302640e+00   \nmin   -5.000000e-01 -8.000000e+01 -3.800000e+01          -3.000000e-01   \n25%    5.000000e-01  0.000000e+00  0.000000e+00           3.000000e-01   \n50%    5.000000e-01  1.360000e+00  0.000000e+00           3.000000e-01   \n75%    5.000000e-01  2.360000e+00  0.000000e+00           3.000000e-01   \nmax    1.500000e+02  4.960000e+02  9.116100e+02           4.000300e+03   \n\n       total_amount           trip_duration  \ncount  9.430376e+06                 9430376  \nmean   1.596526e+01  0 days 00:16:34.163174  \nstd    9.668569e+01  0 days 01:03:20.213158  \nmin   -3.748000e+02       -5 days +22:48:32  \n25%    8.300000e+00         0 days 00:06:19  \n50%    1.162000e+01         0 days 00:10:37  \n75%    1.716000e+01         0 days 00:17:30  \nmax    2.147502e+05         4 days 21:21:34  ",
      "text/html": "<div>\n<style scoped>\n    .dataframe tbody tr th:only-of-type {\n        vertical-align: middle;\n    }\n\n    .dataframe tbody tr th {\n        vertical-align: top;\n    }\n\n    .dataframe thead th {\n        text-align: right;\n    }\n</style>\n<table border=\"1\" class=\"dataframe\">\n  <thead>\n    <tr style=\"text-align: right;\">\n      <th></th>\n      <th>VendorID</th>\n      <th>passenger_count</th>\n      <th>trip_distance</th>\n      <th>RatecodeID</th>\n      <th>PULocationID</th>\n      <th>DOLocationID</th>\n      <th>payment_type</th>\n      <th>fare_amount</th>\n      <th>extra</th>\n      <th>mta_tax</th>\n      <th>tip_amount</th>\n      <th>tolls_amount</th>\n      <th>improvement_surcharge</th>\n      <th>total_amount</th>\n      <th>trip_duration</th>\n    </tr>\n  </thead>\n  <tbody>\n    <tr>\n      <th>count</th>\n      <td>9.430376e+06</td>\n      <td>9.430376e+06</td>\n      <td>9.430376e+06</td>\n      <td>9.430376e+06</td>\n      <td>9.430376e+06</td>\n      <td>9.430376e+06</td>\n      <td>9.430376e+06</td>\n      <td>9.430376e+06</td>\n      <td>9.430376e+06</td>\n      <td>9.430376e+06</td>\n      <td>9.430376e+06</td>\n      <td>9.430376e+06</td>\n      <td>9.430376e+06</td>\n      <td>9.430376e+06</td>\n      <td>9430376</td>\n    </tr>\n    <tr>\n      <th>mean</th>\n      <td>1.567604e+00</td>\n      <td>1.601390e+00</td>\n      <td>2.864808e+00</td>\n      <td>1.042197e+00</td>\n      <td>1.629755e+02</td>\n      <td>1.611061e+02</td>\n      <td>1.312569e+00</td>\n      <td>1.265681e+01</td>\n      <td>3.343034e-01</td>\n      <td>4.973344e-01</td>\n      <td>1.847916e+00</td>\n      <td>3.253465e-01</td>\n      <td>3.000036e-01</td>\n      <td>1.596526e+01</td>\n      <td>0 days 00:16:34.163174</td>\n    </tr>\n    <tr>\n      <th>std</th>\n      <td>4.954086e-01</td>\n      <td>1.247606e+00</td>\n      <td>3.722331e+00</td>\n      <td>4.704546e-01</td>\n      <td>6.664959e+01</td>\n      <td>7.051072e+01</td>\n      <td>4.840774e-01</td>\n      <td>9.631818e+01</td>\n      <td>4.645647e-01</td>\n      <td>7.003697e-02</td>\n      <td>2.565877e+00</td>\n      <td>1.663388e+00</td>\n      <td>1.302640e+00</td>\n      <td>9.668569e+01</td>\n      <td>0 days 01:03:20.213158</td>\n    </tr>\n    <tr>\n      <th>min</th>\n      <td>1.000000e+00</td>\n      <td>0.000000e+00</td>\n      <td>0.000000e+00</td>\n      <td>1.000000e+00</td>\n      <td>1.000000e+00</td>\n      <td>1.000000e+00</td>\n      <td>1.000000e+00</td>\n      <td>-3.740000e+02</td>\n      <td>-6.000000e+01</td>\n      <td>-5.000000e-01</td>\n      <td>-8.000000e+01</td>\n      <td>-3.800000e+01</td>\n      <td>-3.000000e-01</td>\n      <td>-3.748000e+02</td>\n      <td>-5 days +22:48:32</td>\n    </tr>\n    <tr>\n      <th>25%</th>\n      <td>1.000000e+00</td>\n      <td>1.000000e+00</td>\n      <td>9.400000e-01</td>\n      <td>1.000000e+00</td>\n      <td>1.140000e+02</td>\n      <td>1.070000e+02</td>\n      <td>1.000000e+00</td>\n      <td>6.500000e+00</td>\n      <td>0.000000e+00</td>\n      <td>5.000000e-01</td>\n      <td>0.000000e+00</td>\n      <td>0.000000e+00</td>\n      <td>3.000000e-01</td>\n      <td>8.300000e+00</td>\n      <td>0 days 00:06:19</td>\n    </tr>\n    <tr>\n      <th>50%</th>\n      <td>2.000000e+00</td>\n      <td>1.000000e+00</td>\n      <td>1.600000e+00</td>\n      <td>1.000000e+00</td>\n      <td>1.620000e+02</td>\n      <td>1.620000e+02</td>\n      <td>1.000000e+00</td>\n      <td>9.000000e+00</td>\n      <td>0.000000e+00</td>\n      <td>5.000000e-01</td>\n      <td>1.360000e+00</td>\n      <td>0.000000e+00</td>\n      <td>3.000000e-01</td>\n      <td>1.162000e+01</td>\n      <td>0 days 00:10:37</td>\n    </tr>\n    <tr>\n      <th>75%</th>\n      <td>2.000000e+00</td>\n      <td>2.000000e+00</td>\n      <td>2.940000e+00</td>\n      <td>1.000000e+00</td>\n      <td>2.330000e+02</td>\n      <td>2.330000e+02</td>\n      <td>2.000000e+00</td>\n      <td>1.400000e+01</td>\n      <td>5.000000e-01</td>\n      <td>5.000000e-01</td>\n      <td>2.360000e+00</td>\n      <td>0.000000e+00</td>\n      <td>3.000000e-01</td>\n      <td>1.716000e+01</td>\n      <td>0 days 00:17:30</td>\n    </tr>\n    <tr>\n      <th>max</th>\n      <td>2.000000e+00</td>\n      <td>9.000000e+00</td>\n      <td>3.028000e+02</td>\n      <td>9.900000e+01</td>\n      <td>2.650000e+02</td>\n      <td>2.650000e+02</td>\n      <td>4.000000e+00</td>\n      <td>2.147484e+05</td>\n      <td>6.666000e+01</td>\n      <td>1.500000e+02</td>\n      <td>4.960000e+02</td>\n      <td>9.116100e+02</td>\n      <td>4.000300e+03</td>\n      <td>2.147502e+05</td>\n      <td>4 days 21:21:34</td>\n    </tr>\n  </tbody>\n</table>\n</div>"
     },
     "metadata": {},
     "execution_count": 25
    }
   ],
   "source": [
    "taxi_trips.describe()"
   ]
  },
  {
   "cell_type": "markdown",
   "metadata": {},
   "source": [
    "We definitely have some weird values here! A trip duration of -5 days or 4 days? Trip distances of 300 miles or 0 miles? We will need to clean up our data. We should examine those records and drop them if need be. "
   ]
  },
  {
   "cell_type": "code",
   "execution_count": null,
   "metadata": {},
   "outputs": [],
   "source": []
  }
 ],
 "metadata": {
  "language_info": {
   "codemirror_mode": {
    "name": "ipython",
    "version": 3
   },
   "file_extension": ".py",
   "mimetype": "text/x-python",
   "name": "python",
   "nbconvert_exporter": "python",
   "pygments_lexer": "ipython3",
   "version": "3.7.4-final"
  },
  "orig_nbformat": 2,
  "kernelspec": {
   "name": "python37464bit109aconda17fbc35b70e04d1eb12e4c88d589c7bd",
   "display_name": "Python 3.7.4 64-bit ('109a': conda)"
  }
 },
 "nbformat": 4,
 "nbformat_minor": 2
}